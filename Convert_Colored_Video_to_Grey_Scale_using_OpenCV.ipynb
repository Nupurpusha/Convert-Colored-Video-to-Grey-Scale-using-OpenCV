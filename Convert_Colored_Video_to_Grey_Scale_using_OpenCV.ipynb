{
  "nbformat": 4,
  "nbformat_minor": 0,
  "metadata": {
    "colab": {
      "provenance": [],
      "authorship_tag": "ABX9TyPMupE43+hEZAfhGJxrEcca",
      "include_colab_link": true
    },
    "kernelspec": {
      "name": "python3",
      "display_name": "Python 3"
    },
    "language_info": {
      "name": "python"
    }
  },
  "cells": [
    {
      "cell_type": "markdown",
      "metadata": {
        "id": "view-in-github",
        "colab_type": "text"
      },
      "source": [
        "<a href=\"https://colab.research.google.com/github/Nupurpusha/Convert-Colored-Video-to-Grey-Scale-using-OpenCV/blob/main/Convert_Colored_Video_to_Grey_Scale_using_OpenCV.ipynb\" target=\"_parent\"><img src=\"https://colab.research.google.com/assets/colab-badge.svg\" alt=\"Open In Colab\"/></a>"
      ]
    },
    {
      "cell_type": "code",
      "source": [
        "import cv2"
      ],
      "metadata": {
        "id": "eguCQF-6Rj4k"
      },
      "execution_count": 37,
      "outputs": []
    },
    {
      "cell_type": "code",
      "execution_count": 41,
      "metadata": {
        "id": "ZlgJKlaGLGH7"
      },
      "outputs": [],
      "source": [
        "def convert_to_grayscale(input_video, output_video):\n",
        "    cap = cv2.VideoCapture(\"/content/VID.mp4\")\n",
        "    if not cap.isOpened():\n",
        "        print(\"Error: Could not open video \")\n",
        "        return\n",
        "    width = int(cap.get(cv2.CAP_PROP_FRAME_WIDTH))\n",
        "    height = int(cap.get(cv2.CAP_PROP_FRAME_HEIGHT))\n",
        "    fps = cap.get(cv2.CAP_PROP_FPS)\n",
        "    total_frames = int(cap.get(cv2.CAP_PROP_FRAME_COUNT))\n",
        "    fourcc = cv2.VideoWriter_fourcc(*'XVID') #FourCC (Four Character Code) is a sequence of four bytes used to uniquely identify data formats. In the context of video codecs, it specifies the encoding format of a video stream within a file container. Each codec has its own FourCC identifier.\n",
        "    out = cv2.VideoWriter(output_video, fourcc, fps, (width, height), isColor=False)\n",
        "\n",
        "    frame_count = 0\n",
        "\n",
        "    while True:\n",
        "        ret, frame = cap.read()\n",
        "\n",
        "        if not ret:\n",
        "            break\n",
        "        gray_frame = cv2.cvtColor(frame, cv2.COLOR_BGR2GRAY)\n",
        "        out.write(gray_frame)\n",
        "        frame_count += 1\n",
        "        print(f\"Processed frame {frame_count}/{total_frames}\")\n",
        "    cap.release()\n",
        "    out.release()\n",
        "    cv2.destroyAllWindows()\n",
        "    print(f\"Conversion completed. Grayscale video saved as '{output_video}'\")"
      ]
    },
    {
      "cell_type": "code",
      "source": [
        "if __name__ == \"__main__\":\n",
        "    input_video = \"/content/VID.mp4\"\n",
        "    output_video = \"output_video_grayscale.mp4\"\n",
        "    convert_to_grayscale(input_video, output_video)"
      ],
      "metadata": {
        "colab": {
          "base_uri": "https://localhost:8080/"
        },
        "id": "X_vqPqYBR1bb",
        "outputId": "f0dfadb8-a1a2-4107-d4f9-851015dd057b"
      },
      "execution_count": 44,
      "outputs": [
        {
          "output_type": "stream",
          "name": "stdout",
          "text": [
            "Processed frame 1/77\n",
            "Processed frame 2/77\n",
            "Processed frame 3/77\n",
            "Processed frame 4/77\n",
            "Processed frame 5/77\n",
            "Processed frame 6/77\n",
            "Processed frame 7/77\n",
            "Processed frame 8/77\n",
            "Processed frame 9/77\n",
            "Processed frame 10/77\n",
            "Processed frame 11/77\n",
            "Processed frame 12/77\n",
            "Processed frame 13/77\n",
            "Processed frame 14/77\n",
            "Processed frame 15/77\n",
            "Processed frame 16/77\n",
            "Processed frame 17/77\n",
            "Processed frame 18/77\n",
            "Processed frame 19/77\n",
            "Processed frame 20/77\n",
            "Processed frame 21/77\n",
            "Processed frame 22/77\n",
            "Processed frame 23/77\n",
            "Processed frame 24/77\n",
            "Processed frame 25/77\n",
            "Processed frame 26/77\n",
            "Processed frame 27/77\n",
            "Processed frame 28/77\n",
            "Processed frame 29/77\n",
            "Processed frame 30/77\n",
            "Processed frame 31/77\n",
            "Processed frame 32/77\n",
            "Processed frame 33/77\n",
            "Processed frame 34/77\n",
            "Processed frame 35/77\n",
            "Processed frame 36/77\n",
            "Processed frame 37/77\n",
            "Processed frame 38/77\n",
            "Processed frame 39/77\n",
            "Processed frame 40/77\n",
            "Processed frame 41/77\n",
            "Processed frame 42/77\n",
            "Processed frame 43/77\n",
            "Processed frame 44/77\n",
            "Processed frame 45/77\n",
            "Processed frame 46/77\n",
            "Processed frame 47/77\n",
            "Processed frame 48/77\n",
            "Processed frame 49/77\n",
            "Processed frame 50/77\n",
            "Processed frame 51/77\n",
            "Processed frame 52/77\n",
            "Processed frame 53/77\n",
            "Processed frame 54/77\n",
            "Processed frame 55/77\n",
            "Processed frame 56/77\n",
            "Processed frame 57/77\n",
            "Processed frame 58/77\n",
            "Processed frame 59/77\n",
            "Processed frame 60/77\n",
            "Processed frame 61/77\n",
            "Processed frame 62/77\n",
            "Processed frame 63/77\n",
            "Processed frame 64/77\n",
            "Processed frame 65/77\n",
            "Processed frame 66/77\n",
            "Processed frame 67/77\n",
            "Processed frame 68/77\n",
            "Processed frame 69/77\n",
            "Processed frame 70/77\n",
            "Processed frame 71/77\n",
            "Processed frame 72/77\n",
            "Processed frame 73/77\n",
            "Processed frame 74/77\n",
            "Processed frame 75/77\n",
            "Processed frame 76/77\n",
            "Processed frame 77/77\n",
            "Conversion completed. Grayscale video saved as 'output_video_grayscale.mp4'\n"
          ]
        }
      ]
    }
  ]
}